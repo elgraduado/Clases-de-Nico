{
 "cells": [
  {
   "cell_type": "code",
   "execution_count": 2,
   "metadata": {},
   "outputs": [],
   "source": [
    "clase_cis=['daniel betancur,carlos Cuentas,leo' \n",
    "    ' hernandez,fredy andres,juan david,juan felipe,'\n",
    "    'alejandra gomez,juan pablo,Paula baron,juan Gordillo,Andres Buitrago, Daniela Arenas']"
   ]
  },
  {
   "cell_type": "code",
   "execution_count": 3,
   "metadata": {},
   "outputs": [
    {
     "name": "stdout",
     "output_type": "stream",
     "text": [
      "['Daniel Betancur', 'Carlos Cuentas', 'Leo Hernandez', 'Fredy Andres', 'Juan David', 'Juan Felipe', 'Alejandra Gomez', 'Juan Pablo', 'Paula Baron', 'Juan Gordillo']\n"
     ]
    }
   ],
   "source": [
    "#objetivo: guardar los nomrbes y apellidos de cada persona en\n",
    "#una lista separada e imprimir los nombres uno por uno organizados por el apellido\n",
    "type(clase_cis)\n",
    "# clase_cis[0]\n",
    "clase_separada=clase_cis[0].title().split(',')\n",
    "print(clase_separada)"
   ]
  },
  {
   "cell_type": "code",
   "execution_count": 4,
   "metadata": {},
   "outputs": [
    {
     "name": "stdout",
     "output_type": "stream",
     "text": [
      "{0: 'Daniel', 1: 'Carlos', 2: 'Leo', 3: 'Fredy', 4: 'Juan', 5: 'Juan', 6: 'Alejandra', 7: 'Juan', 8: 'Paula', 9: 'Juan'}\n",
      "{'Betancur': 0, 'Cuentas': 1, 'Hernandez': 2, 'Andres': 3, 'David': 4, 'Felipe': 5, 'Gomez': 6, 'Pablo': 7, 'Baron': 8, 'Gordillo': 9}\n"
     ]
    }
   ],
   "source": [
    "nombres={}\n",
    "apellidos={}\n",
    "t=0\n",
    "for integrante in clase_separada:\n",
    "    separado=integrante.split(' ')\n",
    "    nombres[t] = separado[0]\n",
    "    apellidos[separado[1]] = t \n",
    "    t+=1\n",
    "print(nombres)\n",
    "print(apellidos)"
   ]
  },
  {
   "cell_type": "code",
   "execution_count": 5,
   "metadata": {},
   "outputs": [
    {
     "name": "stdout",
     "output_type": "stream",
     "text": [
      "['Andres', 'Baron', 'Betancur', 'Cuentas', 'David', 'Felipe', 'Gomez', 'Gordillo', 'Hernandez', 'Pablo']\n"
     ]
    }
   ],
   "source": [
    "apellidos_organizados=apellidos.keys()\n",
    "apellidos_organizados=list(apellidos_organizados)\n",
    "apellidos_organizados.sort()\n",
    "print(apellidos_organizados)"
   ]
  },
  {
   "cell_type": "code",
   "execution_count": 6,
   "metadata": {},
   "outputs": [
    {
     "name": "stdout",
     "output_type": "stream",
     "text": [
      "['Fredy Andres', 'Paula Baron', 'Daniel Betancur', 'Carlos Cuentas', 'Juan David', 'Juan Felipe', 'Alejandra Gomez', 'Juan Gordillo', 'Leo Hernandez', 'Juan Pablo']\n"
     ]
    }
   ],
   "source": [
    "integrantes_organizados=[]\n",
    "for apellido in apellidos_organizados:\n",
    "    identificador=apellidos.get(apellido)\n",
    "    nombre=nombres.get(identificador)\n",
    "    integrantes_organizados.append(nombre + ' ' + apellido)\n",
    "print(integrantes_organizados)"
   ]
  },
  {
   "cell_type": "code",
   "execution_count": 10,
   "metadata": {},
   "outputs": [
    {
     "name": "stdout",
     "output_type": "stream",
     "text": [
      "Fredy Andres\n",
      "Paula Baron\n",
      "Daniel Betancur\n",
      "Carlos Cuentas\n",
      "Juan David\n",
      "Juan Felipe\n",
      "Alejandra Gomez\n",
      "Juan Gordillo\n",
      "Leo Hernandez\n",
      "Juan Pablo\n"
     ]
    }
   ],
   "source": [
    "for integrante in integrantes_organizados:\n",
    "    print(integrante)"
   ]
  }
 ],
 "metadata": {
  "kernelspec": {
   "display_name": "Python 3",
   "language": "python",
   "name": "python3"
  },
  "language_info": {
   "codemirror_mode": {
    "name": "ipython",
    "version": 3
   },
   "file_extension": ".py",
   "mimetype": "text/x-python",
   "name": "python",
   "nbconvert_exporter": "python",
   "pygments_lexer": "ipython3",
   "version": "3.7.6"
  }
 },
 "nbformat": 4,
 "nbformat_minor": 4
}
