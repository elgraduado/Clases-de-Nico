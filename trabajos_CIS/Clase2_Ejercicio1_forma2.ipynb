{
 "cells": [
  {
   "cell_type": "code",
   "execution_count": 2,
   "metadata": {},
   "outputs": [],
   "source": [
    "clase_cis=['daniel betancur,carlos Cuentas,leo' \n",
    "    ' hernandez,fredy andres,juan david,juan felipe,'\n",
    "    'alejandra gomez,juan pablo,Paula baron,juan Gordillo']"
   ]
  },
  {
   "cell_type": "code",
   "execution_count": 5,
   "metadata": {},
   "outputs": [
    {
     "name": "stdout",
     "output_type": "stream",
     "text": [
      "['Daniel Betancur', 'Carlos Cuentas', 'Leo Hernandez', 'Fredy Andres', 'Juan David', 'Juan Felipe', 'Alejandra Gomez', 'Juan Pablo', 'Paula Baron', 'Juan Gordillo']\n"
     ]
    }
   ],
   "source": [
    "#objetivo: guardar los nomrbes y apellidos de cada persona en\n",
    "#una lista separada e imprimir los nombres uno por uno organizados por el apellido\n",
    "type(clase_cis)\n",
    "# clase_cis[0]\n",
    "clase_separada=clase_cis[0].title().split(',')\n",
    "print(clase_separada)"
   ]
  },
  {
   "cell_type": "code",
   "execution_count": 21,
   "metadata": {},
   "outputs": [
    {
     "name": "stdout",
     "output_type": "stream",
     "text": [
      "['Betancur Daniel', 'Cuentas Carlos', 'Hernandez Leo', 'Andres Fredy', 'David Juan', 'Felipe Juan', 'Gomez Alejandra', 'Pablo Juan', 'Baron Paula', 'Gordillo Juan']\n"
     ]
    }
   ],
   "source": [
    "integrantes_invertido=[]\n",
    "for integrante in clase_separada:\n",
    "    separado=integrante.split(' ')\n",
    "    nombre=separado[0]\n",
    "    apellido=separado[1]\n",
    "    integrantes_invertido.append('{} {}'.format(apellido,nombre))    \n",
    "print(integrantes_invertido)"
   ]
  },
  {
   "cell_type": "code",
   "execution_count": 30,
   "metadata": {},
   "outputs": [
    {
     "name": "stdout",
     "output_type": "stream",
     "text": [
      "Andres Fredy\n",
      "Baron Paula\n",
      "Betancur Daniel\n",
      "Cuentas Carlos\n",
      "David Juan\n",
      "Felipe Juan\n",
      "Gomez Alejandra\n",
      "Gordillo Juan\n",
      "Hernandez Leo\n",
      "Pablo Juan\n"
     ]
    }
   ],
   "source": [
    "integrantes_invertido.sort()\n",
    "for integrante in integrantes_invertido:\n",
    "    print(integrante)"
   ]
  },
  {
   "cell_type": "code",
   "execution_count": 34,
   "metadata": {},
   "outputs": [
    {
     "name": "stdout",
     "output_type": "stream",
     "text": [
      "['Fredy Andres', 'Paula Baron', 'Daniel Betancur', 'Carlos Cuentas', 'Juan David', 'Juan Felipe', 'Alejandra Gomez', 'Juan Gordillo', 'Leo Hernandez', 'Juan Pablo']\n"
     ]
    }
   ],
   "source": [
    "integrantes_organizado=[]\n",
    "for integrante in integrantes_invertido:\n",
    "    separado=integrante.split(' ')\n",
    "    nombre=separado[0]\n",
    "    apellido=separado[1]\n",
    "    integrantes_organizado.append('{} {}'.format(apellido,nombre))  \n",
    "print(integrantes_organizado)"
   ]
  },
  {
   "cell_type": "code",
   "execution_count": 35,
   "metadata": {},
   "outputs": [
    {
     "name": "stdout",
     "output_type": "stream",
     "text": [
      "Andres Fredy\n",
      "Baron Paula\n",
      "Betancur Daniel\n",
      "Cuentas Carlos\n",
      "David Juan\n",
      "Felipe Juan\n",
      "Gomez Alejandra\n",
      "Gordillo Juan\n",
      "Hernandez Leo\n",
      "Pablo Juan\n"
     ]
    }
   ],
   "source": [
    "for integrante in integrantes_invertido:\n",
    "    print(integrante)"
   ]
  }
 ],
 "metadata": {
  "kernelspec": {
   "display_name": "Python 3",
   "language": "python",
   "name": "python3"
  },
  "language_info": {
   "codemirror_mode": {
    "name": "ipython",
    "version": 3
   },
   "file_extension": ".py",
   "mimetype": "text/x-python",
   "name": "python",
   "nbconvert_exporter": "python",
   "pygments_lexer": "ipython3",
   "version": "3.7.6"
  }
 },
 "nbformat": 4,
 "nbformat_minor": 4
}
