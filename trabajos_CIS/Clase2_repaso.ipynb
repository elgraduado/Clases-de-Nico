{
 "cells": [
  {
   "cell_type": "markdown",
   "metadata": {},
   "source": [
    "* Abrir jupyter sin necesidad de anaconda\n",
    "* CMD para abrir anaconda\n",
    "    * Escritorio\n",
    "    * Ubicación real\n",
    "* Extension de archivos en python\n",
    "    * py\n",
    "    * ipynb\n",
    "* copiar y clonar el repositorio a su pc"
   ]
  },
  {
   "cell_type": "markdown",
   "metadata": {},
   "source": [
    "* Librerias para machine learning <br>\n",
    "(en la carpeta documentación se peude encontrar algunos ejemplos de cada libreria)\n",
    "    * Matplotlib\n",
    "    * Numpy\n",
    "    * Pandas\n"
   ]
  },
  {
   "cell_type": "markdown",
   "metadata": {},
   "source": [
    "* Que es la inteligencia artificial? <br>\n",
    "https://www.youtube.com/watch?v=i1wGMQ3TjzA&list=PL-Ogd76BhmcDxef4liOGXGXLL-4h65bs4 (20 videos)\n",
    "* Mahcine learning\n",
    "    * regresion\n",
    "\n",
    "    * Clasificacion\n"
   ]
  },
  {
   "cell_type": "markdown",
   "metadata": {},
   "source": [
    "<img src=https://i.ytimg.com/vi/SsFBnvkoZa4/maxresdefault.jpg>\n",
    "<img src=http://contenidosdigitales.ulp.edu.ar/exe/matematica_NEE/Clasificacion_de_cuerpos_1.png>"
   ]
  },
  {
   "cell_type": "markdown",
   "metadata": {},
   "source": []
  },
  {
   "cell_type": "markdown",
   "metadata": {},
   "source": [
    "<img src=\"./clases_anteriores/imagenes_clase_4/proceso.png\">"
   ]
  },
  {
   "cell_type": "markdown",
   "metadata": {},
   "source": [
    "# Sesion 2 \n",
    "comandos en cmd para copiar\n",
    "* cp\n",
    "* mkdir\n",
    "## ejercicios en python\n",
    "* ejercicios para python http://aprendeconalf.es/python/ejercicios/"
   ]
  },
  {
   "cell_type": "code",
   "execution_count": 1,
   "metadata": {},
   "outputs": [
    {
     "name": "stdout",
     "output_type": "stream",
     "text": [
      "hola mundo\n"
     ]
    }
   ],
   "source": [
    "# x='hola mundo'\n",
    "y=1\n",
    "if y==1:\n",
    "    x='hola mundo'\n",
    "else:\n",
    "    z='hola mundo'\n",
    "try:\n",
    "    print(x)\n",
    "except NameError:\n",
    "    print('la condicion no se cumplió')"
   ]
  },
  {
   "cell_type": "code",
   "execution_count": 2,
   "metadata": {},
   "outputs": [
    {
     "name": "stdout",
     "output_type": "stream",
     "text": [
      "range(0, 6)\n"
     ]
    },
    {
     "data": {
      "text/plain": [
       "'perro'"
      ]
     },
     "execution_count": 2,
     "metadata": {},
     "output_type": "execute_result"
    }
   ],
   "source": [
    "x=range(6)\n",
    "print(x)\n",
    "\n",
    "animales=['perro','gato','loro','caballo']\n",
    "animales[0]"
   ]
  },
  {
   "cell_type": "code",
   "execution_count": 3,
   "metadata": {},
   "outputs": [
    {
     "name": "stdout",
     "output_type": "stream",
     "text": [
      "perro\n",
      "gato\n",
      "loro\n",
      "caballo\n"
     ]
    }
   ],
   "source": [
    "for numeros in range(4):\n",
    "    print(animales[numeros])"
   ]
  },
  {
   "cell_type": "code",
   "execution_count": 4,
   "metadata": {},
   "outputs": [],
   "source": [
    "import numpy as np"
   ]
  },
  {
   "cell_type": "code",
   "execution_count": 12,
   "metadata": {},
   "outputs": [
    {
     "name": "stdout",
     "output_type": "stream",
     "text": [
      "[[[ 2  3  4]\n",
      "  [ 5  6  7]]\n",
      "\n",
      " [[ 8  9 10]\n",
      "  [11 12 13]]]\n",
      "(2, 2, 3)\n"
     ]
    }
   ],
   "source": [
    "var=np.array([[[2,3,4],[5,6,7]],[[8,9,10],[11,12,13]]])\n",
    "print(var)\n",
    "print(var.shape)\n",
    "rand=np.random.random([2,2])"
   ]
  },
  {
   "cell_type": "code",
   "execution_count": 21,
   "metadata": {
    "scrolled": true
   },
   "outputs": [
    {
     "name": "stdout",
     "output_type": "stream",
     "text": [
      "[[1 2 3]\n",
      " [4 5 6]\n",
      " [7 8 9]] \n",
      " \n",
      " [[0.75914124 0.39331789 0.67600553]\n",
      " [0.14892341 0.42415762 0.4973936 ]\n",
      " [0.23177887 0.13042714 0.35941947]] \n",
      " \n",
      " [[1. 0. 0.]\n",
      " [0. 1. 0.]\n",
      " [0. 0. 1.]] \n",
      " \n",
      " \n",
      "[[ 1.75232468  1.63291454  2.74905114]\n",
      " [ 5.17185525  4.47662247  7.34750694]\n",
      " [ 8.59138582  7.32033041 11.94596274]]\n",
      "\n",
      " \n",
      "\n",
      "[[0.75914124 0.39331789 0.67600553]\n",
      " [0.14892341 0.42415762 0.4973936 ]\n",
      " [0.23177887 0.13042714 0.35941947]]\n"
     ]
    }
   ],
   "source": [
    "m1=np.array([[1,2,3],[4,5,6],[7,8,9]])\n",
    "\n",
    "m2=np.random.random([3,3])\n",
    "\n",
    "m3=np.eye(3,3)\n",
    "\n",
    "print('{} \\n \\n {} \\n \\n {} \\n \\n '.format(m1,m2,m3))\n",
    "print(np.dot(m1,m2))\n",
    "\n",
    "print('\\n \\n')\n",
    "print(np.dot(m3,m2))"
   ]
  },
  {
   "cell_type": "code",
   "execution_count": 27,
   "metadata": {
    "scrolled": true
   },
   "outputs": [
    {
     "data": {
      "text/plain": [
       "array([  0,   1,   2,   3,   4,   5,   6,   7,   8,   9,  10,  11,  12,\n",
       "        13,  14,  15,  16,  17,  18,  19,  20,  21,  22,  23,  24,  25,\n",
       "        26,  27,  28,  29,  30,  31,  32,  33,  34,  35,  36,  37,  38,\n",
       "        39,  40,  41,  42,  43,  44,  45,  46,  47,  48,  49,  50,  51,\n",
       "        52,  53,  54,  55,  56,  57,  58,  59,  60,  61,  62,  63,  64,\n",
       "        65,  66,  67,  68,  69,  70,  71,  72,  73,  74,  75,  76,  77,\n",
       "        78,  79,  80,  81,  82,  83,  84,  85,  86,  87,  88,  89,  90,\n",
       "        91,  92,  93,  94,  95,  96,  97,  98,  99, 100])"
      ]
     },
     "execution_count": 27,
     "metadata": {},
     "output_type": "execute_result"
    }
   ],
   "source": [
    "np.linspace(0,100,101)\n",
    "np.arange(0,101,1)"
   ]
  },
  {
   "cell_type": "code",
   "execution_count": 37,
   "metadata": {},
   "outputs": [
    {
     "ename": "ValueError",
     "evalue": "cannot reshape array of size 18 into shape (1,16)",
     "output_type": "error",
     "traceback": [
      "\u001b[0;31m---------------------------------------------------------------------------\u001b[0m",
      "\u001b[0;31mValueError\u001b[0m                                Traceback (most recent call last)",
      "\u001b[0;32m<ipython-input-37-84645e7f1c74>\u001b[0m in \u001b[0;36m<module>\u001b[0;34m\u001b[0m\n\u001b[1;32m      1\u001b[0m \u001b[0mm1\u001b[0m\u001b[0;34m=\u001b[0m\u001b[0mnp\u001b[0m\u001b[0;34m.\u001b[0m\u001b[0marray\u001b[0m\u001b[0;34m(\u001b[0m\u001b[0;34m[\u001b[0m\u001b[0;34m[\u001b[0m\u001b[0;36m1\u001b[0m\u001b[0;34m,\u001b[0m\u001b[0;36m2\u001b[0m\u001b[0;34m,\u001b[0m\u001b[0;36m3\u001b[0m\u001b[0;34m,\u001b[0m\u001b[0;36m4\u001b[0m\u001b[0;34m,\u001b[0m\u001b[0;36m5\u001b[0m\u001b[0;34m,\u001b[0m\u001b[0;36m6\u001b[0m\u001b[0;34m,\u001b[0m\u001b[0;36m7\u001b[0m\u001b[0;34m,\u001b[0m\u001b[0;36m8\u001b[0m\u001b[0;34m,\u001b[0m\u001b[0;36m1\u001b[0m\u001b[0;34m]\u001b[0m\u001b[0;34m,\u001b[0m\u001b[0;34m[\u001b[0m\u001b[0;36m7\u001b[0m\u001b[0;34m,\u001b[0m\u001b[0;36m9\u001b[0m\u001b[0;34m,\u001b[0m\u001b[0;36m4\u001b[0m\u001b[0;34m,\u001b[0m\u001b[0;36m7\u001b[0m\u001b[0;34m,\u001b[0m\u001b[0;36m3\u001b[0m\u001b[0;34m,\u001b[0m\u001b[0;36m7\u001b[0m\u001b[0;34m,\u001b[0m\u001b[0;36m5\u001b[0m\u001b[0;34m,\u001b[0m\u001b[0;36m8\u001b[0m\u001b[0;34m,\u001b[0m\u001b[0;36m9\u001b[0m\u001b[0;34m]\u001b[0m\u001b[0;34m]\u001b[0m\u001b[0;34m)\u001b[0m\u001b[0;34m\u001b[0m\u001b[0;34m\u001b[0m\u001b[0m\n\u001b[1;32m      2\u001b[0m \u001b[0;31m# m1.reshape(9,1)\u001b[0m\u001b[0;34m\u001b[0m\u001b[0;34m\u001b[0m\u001b[0;34m\u001b[0m\u001b[0m\n\u001b[0;32m----> 3\u001b[0;31m \u001b[0mm1\u001b[0m\u001b[0;34m.\u001b[0m\u001b[0mreshape\u001b[0m\u001b[0;34m(\u001b[0m\u001b[0;36m1\u001b[0m\u001b[0;34m,\u001b[0m\u001b[0;36m16\u001b[0m\u001b[0;34m)\u001b[0m\u001b[0;34m\u001b[0m\u001b[0;34m\u001b[0m\u001b[0m\n\u001b[0m",
      "\u001b[0;31mValueError\u001b[0m: cannot reshape array of size 18 into shape (1,16)"
     ]
    }
   ],
   "source": [
    "def cambiar_forma(matriz)\n",
    "    return matriz_organizada\n",
    "\n",
    "m1=np.array([[1,2,3,4,5,6,7,8,1],[7,9,4,7,3,7,5,8,9]])\n",
    "# m1.reshape(9,1)\n",
    "cambiar_forma(m1)"
   ]
  }
 ],
 "metadata": {
  "kernelspec": {
   "display_name": "Python 3",
   "language": "python",
   "name": "python3"
  },
  "language_info": {
   "codemirror_mode": {
    "name": "ipython",
    "version": 3
   },
   "file_extension": ".py",
   "mimetype": "text/x-python",
   "name": "python",
   "nbconvert_exporter": "python",
   "pygments_lexer": "ipython3",
   "version": "3.7.6"
  }
 },
 "nbformat": 4,
 "nbformat_minor": 4
}
