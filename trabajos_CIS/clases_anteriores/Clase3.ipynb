{
 "cells": [
  {
   "cell_type": "markdown",
   "metadata": {},
   "source": [
    "# Clase N.3\n",
    "- Incorporar procesos github\n",
    "    - git add .\n",
    "    - git commit -m \"mensaje\"\n",
    "    - git push origin master\n",
    "    <br><br>\n",
    "    - git pull origin master\n",
    "    <br><br>\n",
    "    - git status\n",
    "- Anconda Navigator\n",
    "    - Jupyter notebooks\n",
    "    - spyder\n",
    "    \n",
    "- Hacer un csv\n",
    "\n",
    "\n",
    "- Añadir el boton de abrir en Colab\n",
    "\n"
   ]
  },
  {
   "cell_type": "markdown",
   "metadata": {},
   "source": [
    "<img src=\"https://colab.research.google.com/assets/colab-badge.svg\" alt=\"Open In Colab\"/>"
   ]
  },
  {
   "cell_type": "markdown",
   "metadata": {},
   "source": [
    "* Regresion lineal\n",
    "    * Importar librerias\n",
    "        * Drive-Colab\n",
    "        * repositorio github\n",
    "    * Analizar datos\n",
    "        * Columnas\n",
    "        * Cambiar nombres\n",
    "        * Grarficar datos\n",
    "        * Entenderlos\n",
    "    * Organizar datos para el entrenamiento\n",
    "        * 70%  -  30%\n",
    "    * Realizar la operacion de regresión\n",
    "    * Verificar el resultado\n",
    "    "
   ]
  },
  {
   "cell_type": "markdown",
   "metadata": {},
   "source": [
    "* matplot\n",
    "    * datos minimos para hacer una grafica\n",
    "    * label - grid - tittle\n",
    "* Organizar datos\n",
    "    * sort en pandas\n",
    "    * sort en numpy\n",
    "    "
   ]
  }
 ],
 "metadata": {
  "kernelspec": {
   "display_name": "Python 3",
   "language": "python",
   "name": "python3"
  },
  "language_info": {
   "codemirror_mode": {
    "name": "ipython",
    "version": 3
   },
   "file_extension": ".py",
   "mimetype": "text/x-python",
   "name": "python",
   "nbconvert_exporter": "python",
   "pygments_lexer": "ipython3",
   "version": "3.7.6"
  }
 },
 "nbformat": 4,
 "nbformat_minor": 4
}
