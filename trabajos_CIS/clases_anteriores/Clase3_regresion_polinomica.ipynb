{
 "cells": [
  {
   "cell_type": "markdown",
   "metadata": {},
   "source": [
    "<a href=\"https://colab.research.google.com/github/nrubio6131/nico_CIS/blob/master/trabajos_CIS/Clase3_regresion_polinomica.ipynb\" target=\"_parent\"><img src=\"https://colab.research.google.com/assets/colab-badge.svg\" alt=\"Open In Colab\"/></a>"
   ]
  },
  {
   "cell_type": "code",
   "execution_count": 1,
   "metadata": {},
   "outputs": [],
   "source": [
    "##importamos las librerias\n",
    "import pandas as pd\n",
    "import numpy as np\n",
    "import matplotlib.pyplot as plt\n",
    "\n",
    "from sklearn.model_selection import train_test_split\n",
    "from sklearn.linear_model import LinearRegression\n",
    "\n",
    "from sklearn.preprocessing import PolynomialFeatures \n",
    "from sklearn.metrics import r2_score"
   ]
  },
  {
   "cell_type": "code",
   "execution_count": 2,
   "metadata": {},
   "outputs": [],
   "source": [
    "# import gspread\n",
    "# from oauth2client.client import GoogleCredentials \n",
    "# from google.colab import auth\n",
    "# auth.authenticate_user()\n",
    "# gc = gspread.authorize (GoogleCredentials.get_application_default())"
   ]
  },
  {
   "cell_type": "code",
   "execution_count": 3,
   "metadata": {},
   "outputs": [],
   "source": [
    "# from google.colab import drive\n",
    "# drive.mount('/content/drive')"
   ]
  },
  {
   "cell_type": "code",
   "execution_count": 4,
   "metadata": {},
   "outputs": [
    {
     "data": {
      "text/html": [
       "<div>\n",
       "<style scoped>\n",
       "    .dataframe tbody tr th:only-of-type {\n",
       "        vertical-align: middle;\n",
       "    }\n",
       "\n",
       "    .dataframe tbody tr th {\n",
       "        vertical-align: top;\n",
       "    }\n",
       "\n",
       "    .dataframe thead th {\n",
       "        text-align: right;\n",
       "    }\n",
       "</style>\n",
       "<table border=\"1\" class=\"dataframe\">\n",
       "  <thead>\n",
       "    <tr style=\"text-align: right;\">\n",
       "      <th></th>\n",
       "      <th>X</th>\n",
       "      <th>Y1</th>\n",
       "      <th>x2</th>\n",
       "      <th>Y2</th>\n",
       "      <th>X3</th>\n",
       "      <th>Y3</th>\n",
       "      <th>Y1_ruido</th>\n",
       "      <th>Y2_ruido</th>\n",
       "      <th>Y3_ruido</th>\n",
       "    </tr>\n",
       "  </thead>\n",
       "  <tbody>\n",
       "    <tr>\n",
       "      <th>0</th>\n",
       "      <td>-1.00</td>\n",
       "      <td>5.000</td>\n",
       "      <td>-4.00</td>\n",
       "      <td>-14.0000</td>\n",
       "      <td>-1.00</td>\n",
       "      <td>8.000000</td>\n",
       "      <td>3.600</td>\n",
       "      <td>-12.5700</td>\n",
       "      <td>7.420000</td>\n",
       "    </tr>\n",
       "    <tr>\n",
       "      <th>1</th>\n",
       "      <td>-0.98</td>\n",
       "      <td>4.604</td>\n",
       "      <td>-3.96</td>\n",
       "      <td>-13.8584</td>\n",
       "      <td>-0.97</td>\n",
       "      <td>7.299665</td>\n",
       "      <td>4.144</td>\n",
       "      <td>-12.8784</td>\n",
       "      <td>8.699665</td>\n",
       "    </tr>\n",
       "    <tr>\n",
       "      <th>2</th>\n",
       "      <td>-0.96</td>\n",
       "      <td>4.216</td>\n",
       "      <td>-3.92</td>\n",
       "      <td>-13.7136</td>\n",
       "      <td>-0.94</td>\n",
       "      <td>6.638120</td>\n",
       "      <td>5.046</td>\n",
       "      <td>-14.4836</td>\n",
       "      <td>5.268120</td>\n",
       "    </tr>\n",
       "    <tr>\n",
       "      <th>3</th>\n",
       "      <td>-0.94</td>\n",
       "      <td>3.836</td>\n",
       "      <td>-3.88</td>\n",
       "      <td>-13.5656</td>\n",
       "      <td>-0.91</td>\n",
       "      <td>6.014555</td>\n",
       "      <td>4.346</td>\n",
       "      <td>-12.9856</td>\n",
       "      <td>4.384555</td>\n",
       "    </tr>\n",
       "    <tr>\n",
       "      <th>4</th>\n",
       "      <td>-0.92</td>\n",
       "      <td>3.464</td>\n",
       "      <td>-3.84</td>\n",
       "      <td>-13.4144</td>\n",
       "      <td>-0.88</td>\n",
       "      <td>5.428160</td>\n",
       "      <td>1.994</td>\n",
       "      <td>-14.4544</td>\n",
       "      <td>6.458160</td>\n",
       "    </tr>\n",
       "    <tr>\n",
       "      <th>...</th>\n",
       "      <td>...</td>\n",
       "      <td>...</td>\n",
       "      <td>...</td>\n",
       "      <td>...</td>\n",
       "      <td>...</td>\n",
       "      <td>...</td>\n",
       "      <td>...</td>\n",
       "      <td>...</td>\n",
       "      <td>...</td>\n",
       "    </tr>\n",
       "    <tr>\n",
       "      <th>95</th>\n",
       "      <td>0.90</td>\n",
       "      <td>3.100</td>\n",
       "      <td>-0.20</td>\n",
       "      <td>13.7400</td>\n",
       "      <td>1.85</td>\n",
       "      <td>2.549375</td>\n",
       "      <td>1.340</td>\n",
       "      <td>11.8200</td>\n",
       "      <td>2.479375</td>\n",
       "    </tr>\n",
       "    <tr>\n",
       "      <th>96</th>\n",
       "      <td>0.92</td>\n",
       "      <td>3.464</td>\n",
       "      <td>-0.16</td>\n",
       "      <td>14.1856</td>\n",
       "      <td>1.88</td>\n",
       "      <td>1.917440</td>\n",
       "      <td>4.544</td>\n",
       "      <td>15.7556</td>\n",
       "      <td>2.657440</td>\n",
       "    </tr>\n",
       "    <tr>\n",
       "      <th>97</th>\n",
       "      <td>0.94</td>\n",
       "      <td>3.836</td>\n",
       "      <td>-0.12</td>\n",
       "      <td>14.6344</td>\n",
       "      <td>1.91</td>\n",
       "      <td>1.247345</td>\n",
       "      <td>4.176</td>\n",
       "      <td>13.9944</td>\n",
       "      <td>3.107345</td>\n",
       "    </tr>\n",
       "    <tr>\n",
       "      <th>98</th>\n",
       "      <td>0.96</td>\n",
       "      <td>4.216</td>\n",
       "      <td>-0.08</td>\n",
       "      <td>15.0864</td>\n",
       "      <td>1.94</td>\n",
       "      <td>0.538280</td>\n",
       "      <td>2.616</td>\n",
       "      <td>14.4064</td>\n",
       "      <td>-0.661720</td>\n",
       "    </tr>\n",
       "    <tr>\n",
       "      <th>99</th>\n",
       "      <td>0.98</td>\n",
       "      <td>4.604</td>\n",
       "      <td>-0.04</td>\n",
       "      <td>15.5416</td>\n",
       "      <td>1.97</td>\n",
       "      <td>-0.210565</td>\n",
       "      <td>2.724</td>\n",
       "      <td>14.9616</td>\n",
       "      <td>1.549435</td>\n",
       "    </tr>\n",
       "  </tbody>\n",
       "</table>\n",
       "<p>100 rows × 9 columns</p>\n",
       "</div>"
      ],
      "text/plain": [
       "       X     Y1    x2       Y2    X3        Y3  Y1_ruido  Y2_ruido  Y3_ruido\n",
       "0  -1.00  5.000 -4.00 -14.0000 -1.00  8.000000     3.600  -12.5700  7.420000\n",
       "1  -0.98  4.604 -3.96 -13.8584 -0.97  7.299665     4.144  -12.8784  8.699665\n",
       "2  -0.96  4.216 -3.92 -13.7136 -0.94  6.638120     5.046  -14.4836  5.268120\n",
       "3  -0.94  3.836 -3.88 -13.5656 -0.91  6.014555     4.346  -12.9856  4.384555\n",
       "4  -0.92  3.464 -3.84 -13.4144 -0.88  5.428160     1.994  -14.4544  6.458160\n",
       "..   ...    ...   ...      ...   ...       ...       ...       ...       ...\n",
       "95  0.90  3.100 -0.20  13.7400  1.85  2.549375     1.340   11.8200  2.479375\n",
       "96  0.92  3.464 -0.16  14.1856  1.88  1.917440     4.544   15.7556  2.657440\n",
       "97  0.94  3.836 -0.12  14.6344  1.91  1.247345     4.176   13.9944  3.107345\n",
       "98  0.96  4.216 -0.08  15.0864  1.94  0.538280     2.616   14.4064 -0.661720\n",
       "99  0.98  4.604 -0.04  15.5416  1.97 -0.210565     2.724   14.9616  1.549435\n",
       "\n",
       "[100 rows x 9 columns]"
      ]
     },
     "execution_count": 4,
     "metadata": {},
     "output_type": "execute_result"
    }
   ],
   "source": [
    "#importamos los datos\n",
    "#data1 = pd.read_csv('/content/drive/My Drive/CIS/DATASET/datos_polinomio.csv',delimiter=',')#desde google drive\n",
    "data1 = pd.read_csv('../data/datos_polinomio.csv',delimiter=',')#desde una carpeta en el repositorio\n",
    "data1"
   ]
  },
  {
   "cell_type": "code",
   "execution_count": 5,
   "metadata": {},
   "outputs": [
    {
     "name": "stdout",
     "output_type": "stream",
     "text": [
      "dimension en X (100, 1)\n",
      "dimension en Y (100, 1)\n"
     ]
    }
   ],
   "source": [
    "#Organizamos los datos\n",
    "X1 = data1.iloc[:,4]\n",
    "X1= X1[:, np.newaxis]\n",
    "Y1= data1.iloc[:,8]\n",
    "Y1 = Y1[:, np.newaxis]\n",
    "print(\"dimension en X {}\" .format(X1.shape))\n",
    "print(\"dimension en Y {}\" .format(Y1.shape))"
   ]
  },
  {
   "cell_type": "code",
   "execution_count": 6,
   "metadata": {},
   "outputs": [],
   "source": [
    "X_train, X_test, Y_train, Y_test = train_test_split(X1,Y1,test_size=.3, random_state=3)"
   ]
  },
  {
   "cell_type": "code",
   "execution_count": 7,
   "metadata": {},
   "outputs": [
    {
     "data": {
      "image/png": "[encoded data removed]",
      "text/plain": [
       "<Figure size 432x288 with 1 Axes>"
      ]
     },
     "metadata": {
      "needs_background": "light"
     },
     "output_type": "display_data"
    }
   ],
   "source": [
    "#graficamos\n",
    "plt.scatter(X1,Y1)\n",
    "plt.title(\"Gráfica 1\")\n",
    "plt.xlabel(\"variable x\")\n",
    "plt.ylabel(\"variable y\")\n",
    "plt.grid()\n",
    "plt.show()"
   ]
  },
  {
   "cell_type": "code",
   "execution_count": 8,
   "metadata": {
    "scrolled": true
   },
   "outputs": [
    {
     "data": {
      "image/png": "[encoded data removed]",
      "text/plain": [
       "<Figure size 432x288 with 2 Axes>"
      ]
     },
     "metadata": {
      "needs_background": "light"
     },
     "output_type": "display_data"
    }
   ],
   "source": [
    "f, [ax1, ax2] = plt.subplots(2, 1, sharey=True) \n",
    "ax1.scatter(X_train,Y_train)\n",
    "ax2.scatter(X_test, Y_test)\n",
    "ax1.grid()\n",
    "ax2.grid()\n",
    "plt.show()"
   ]
  },
  {
   "cell_type": "code",
   "execution_count": 9,
   "metadata": {},
   "outputs": [
    {
     "data": {
      "text/plain": [
       "LinearRegression(copy_X=True, fit_intercept=True, n_jobs=None, normalize=False)"
      ]
     },
     "execution_count": 9,
     "metadata": {},
     "output_type": "execute_result"
    }
   ],
   "source": [
    "pf = PolynomialFeatures(degree = 3)    # usaremos polinomios de grado 3\n",
    "X_poli = pf.fit_transform(X_train.reshape(-1,1))  # transformamos la entrada en polinómica\n",
    "regresion_lineal = LinearRegression()\n",
    "regresion_lineal.fit(X_poli, Y_train)\n"
   ]
  },
  {
   "cell_type": "code",
   "execution_count": 1,
   "metadata": {},
   "outputs": [
    {
     "ename": "NameError",
     "evalue": "name 'pd' is not defined",
     "output_type": "error",
     "traceback": [
      "\u001b[1;31m---------------------------------------------------------------------------\u001b[0m",
      "\u001b[1;31mNameError\u001b[0m                                 Traceback (most recent call last)",
      "\u001b[1;32m<ipython-input-1-0b1b2d9357a1>\u001b[0m in \u001b[0;36m<module>\u001b[1;34m\u001b[0m\n\u001b[0;32m      1\u001b[0m \u001b[1;31m#Organizacion de datos con pandas    SORT\u001b[0m\u001b[1;33m\u001b[0m\u001b[1;33m\u001b[0m\u001b[1;33m\u001b[0m\u001b[0m\n\u001b[1;32m----> 2\u001b[1;33m \u001b[0mdatos_organizados_2\u001b[0m\u001b[1;33m=\u001b[0m\u001b[0mpd\u001b[0m\u001b[1;33m.\u001b[0m\u001b[0mDataFrame\u001b[0m\u001b[1;33m(\u001b[0m\u001b[1;33m[\u001b[0m\u001b[0mX_train\u001b[0m\u001b[1;33m[\u001b[0m\u001b[1;33m:\u001b[0m\u001b[1;33m,\u001b[0m\u001b[1;36m0\u001b[0m\u001b[1;33m]\u001b[0m\u001b[1;33m,\u001b[0m\u001b[0mregresion_lineal\u001b[0m\u001b[1;33m.\u001b[0m\u001b[0mpredict\u001b[0m\u001b[1;33m(\u001b[0m\u001b[0mX\u001b[0m\u001b[1;33m)\u001b[0m\u001b[1;33m[\u001b[0m\u001b[1;33m:\u001b[0m\u001b[1;33m,\u001b[0m\u001b[1;36m0\u001b[0m\u001b[1;33m]\u001b[0m\u001b[1;33m]\u001b[0m\u001b[1;33m)\u001b[0m\u001b[1;33m.\u001b[0m\u001b[0mtranspose\u001b[0m\u001b[1;33m(\u001b[0m\u001b[1;33m)\u001b[0m\u001b[1;33m\u001b[0m\u001b[1;33m\u001b[0m\u001b[0m\n\u001b[0m\u001b[0;32m      3\u001b[0m \u001b[0mdatos_organizados_2\u001b[0m\u001b[1;33m.\u001b[0m\u001b[0mcolumns\u001b[0m\u001b[1;33m=\u001b[0m\u001b[1;33m[\u001b[0m\u001b[1;34m'x_organizado_2'\u001b[0m\u001b[1;33m,\u001b[0m\u001b[1;34m'y_organizado_2'\u001b[0m\u001b[1;33m]\u001b[0m\u001b[1;33m\u001b[0m\u001b[1;33m\u001b[0m\u001b[0m\n\u001b[0;32m      4\u001b[0m \u001b[0mdatos_organizados_2\u001b[0m\u001b[1;33m=\u001b[0m\u001b[0mdatos_organizados_2\u001b[0m\u001b[1;33m.\u001b[0m\u001b[0msort_values\u001b[0m\u001b[1;33m(\u001b[0m\u001b[1;34m'x_organizado_2'\u001b[0m\u001b[1;33m)\u001b[0m\u001b[1;33m\u001b[0m\u001b[1;33m\u001b[0m\u001b[0m\n\u001b[0;32m      5\u001b[0m \u001b[0mX1_organizado\u001b[0m \u001b[1;33m=\u001b[0m \u001b[0mdatos_organizados_2\u001b[0m\u001b[1;33m.\u001b[0m\u001b[0miloc\u001b[0m\u001b[1;33m[\u001b[0m\u001b[1;33m:\u001b[0m\u001b[1;33m,\u001b[0m\u001b[1;36m0\u001b[0m\u001b[1;33m]\u001b[0m\u001b[1;33m\u001b[0m\u001b[1;33m\u001b[0m\u001b[0m\n",
      "\u001b[1;31mNameError\u001b[0m: name 'pd' is not defined"
     ]
    }
   ],
   "source": [
    "#Organizacion de datos con pandas    SORT\n",
    "datos_organizados_2=pd.DataFrame([X_train[:,0],regresion_lineal.predict(X_poli)[:,0]]).transpose()\n",
    "datos_organizados_2.columns=['x_organizado_2','y_organizado_2']\n",
    "datos_organizados_2=datos_organizados_2.sort_values('x_organizado_2')\n",
    "X1_organizado = datos_organizados_2.iloc[:,0]\n",
    "X1_organizado= X1_organizado[:, np.newaxis]\n",
    "Y1_organizado = datos_organizados_2.iloc[:,1]\n",
    "Y1_organizado= Y1_organizado[:, np.newaxis]\n",
    "\n",
    "#Graficamos los datos ya organizados\n",
    "plt.scatter(X_train, Y_train,label='datos')\n",
    "plt.plot(X1_organizado, Y1_organizado, color=  '#ff7f0e',label='regresión')#probar con plot\n",
    "plt.title(\"verificación entrenamiento\")\n",
    "plt.xlabel(\"Varaible en X\")\n",
    "plt.ylabel(\"variable en Y\")\n",
    "plt.legend()\n",
    "plt.grid()\n",
    "plt.show()"
   ]
  },
  {
   "cell_type": "code",
   "execution_count": 11,
   "metadata": {},
   "outputs": [
    {
     "data": {
      "image/png": "[encoded data removed]",
      "text/plain": [
       "<Figure size 432x288 with 1 Axes>"
      ]
     },
     "metadata": {
      "needs_background": "light"
     },
     "output_type": "display_data"
    }
   ],
   "source": [
    "X_test_poli=pf.fit_transform(X_test.reshape(-1,1))  # transformamos la entrada en polinómica\n",
    "\n",
    "datos_organizados_test=pd.DataFrame([X_test[:,0],regresion_lineal.predict(X_test_poli)[:,0]]).transpose()\n",
    "datos_organizados_test.columns=['x_organizado_2','y_organizado_2']\n",
    "datos_organizados_test=datos_organizados_test.sort_values('x_organizado_2')\n",
    "X1_organizado_2 = datos_organizados_test.iloc[:,0]\n",
    "X1_organizado_2= X1_organizado_2[:, np.newaxis]\n",
    "Y1_organizado_2 = datos_organizados_test.iloc[:,1]\n",
    "Y1_organizado_2= Y1_organizado_2[:, np.newaxis]\n",
    "\n",
    "#Graficamos los datos ya organizados\n",
    "plt.scatter(X_test, Y_test,label='datos')\n",
    "plt.plot(X1_organizado_2, Y1_organizado_2, color=  '#ff7f0e',label='regresión', marker='o')#probar con plot\n",
    "plt.title(\"verificación entrenamiento\")\n",
    "plt.xlabel(\"Varaible en X\")\n",
    "plt.ylabel(\"variable en Y\")\n",
    "plt.legend()\n",
    "plt.grid()\n",
    "plt.show()"
   ]
  },
  {
   "cell_type": "code",
   "execution_count": 12,
   "metadata": {},
   "outputs": [
    {
     "name": "stdout",
     "output_type": "stream",
     "text": [
      "0.8535598941427782\n",
      "0.8752096941658436\n"
     ]
    }
   ],
   "source": [
    "print(r2_score(Y_train,regresion_lineal.predict(X_poli)))\n",
    "\n",
    "print(r2_score(Y_test,regresion_lineal.predict(X_test_poli)))"
   ]
  },
  {
   "cell_type": "markdown",
   "metadata": {},
   "source": [
    " Muchachos apra obtener los parametros de la regresion polinomica se realiza por medio de los metodos .coef_ y .intercept siendo coef_, los valores de a1,a2,a3.... e intercept el valor de B!\n",
    "<br><br>\n",
    "La forma de una ecuacion lineal es\n",
    "$Y = AX_1+B$\n",
    "\n",
    "La forma de una ecuacion polinomica es\n",
    "$Y = A_1X_1 + A_2X_1^2 + A_3X_1^3 + A_4X_1^4 ... +B$\n"
   ]
  },
  {
   "cell_type": "code",
   "execution_count": 13,
   "metadata": {
    "scrolled": true
   },
   "outputs": [
    {
     "name": "stdout",
     "output_type": "stream",
     "text": [
      "valores para A = [ 0.          4.7851567   6.61478938 -4.65719613]\n",
      "valores para B = [1.18527994]\n"
     ]
    }
   ],
   "source": [
    "regresion_lineal.coef_\n",
    "regresion_lineal.intercept_\n",
    "print('valores para A = {}'.format(regresion_lineal.coef_[0,:]))#valores de A\n",
    "print('valores para B = {}'.format(regresion_lineal.intercept_))#valor de B"
   ]
  },
  {
   "cell_type": "markdown",
   "metadata": {},
   "source": [
    "# Ejericcios opcionales\n",
    "   * Recrear los modelos de regresión lineal y polinomica utilizando el data set dado\n",
    "   * Realizar un dataset y lelgar a la misma función de entrada\n",
    "   * Utilizando las el vector de coef_ y intercept_ realizar una función que imprima los valores en la forma de la función, la respeusta deseada se encuentra abajo"
   ]
  },
  {
   "cell_type": "code",
   "execution_count": 17,
   "metadata": {},
   "outputs": [
    {
     "name": "stdout",
     "output_type": "stream",
     "text": [
      "La función resultante es: 4.7852*x + 6.6148*x^2 - 4.6572*x^3 + 1.19\n"
     ]
    }
   ],
   "source": [
    "n=0;\n",
    "i=0;\n",
    "print('La función resultante es:',end=' ')\n",
    "for i in range(regresion_lineal.coef_.shape[1]-1):\n",
    "    if i == 0:\n",
    "        if round(float(regresion_lineal.coef_[:,i+1]),4) % 1 == 0:\n",
    "            if round(float(regresion_lineal.coef_[:,i+1])) != 0:\n",
    "                print('{0}*x'.format(round(float(regresion_lineal.coef_[:,i+1]))),end=' ')\n",
    "        else:   \n",
    "            print('{0:1.4f}*x'.format(float(regresion_lineal.coef_[:,i+1])),end=' ')\n",
    "    else:\n",
    "        if round(float(regresion_lineal.coef_[:,i+1]),4) % 1 == 0:\n",
    "            if round(float(regresion_lineal.coef_[:,i+1])) > 0:\n",
    "                print('+ {1}*x^{0}'.format(i+1,round(float(regresion_lineal.coef_[:,i+1]))),end=' ')\n",
    "            elif round(float(regresion_lineal.coef_[:,i+1])) < 0:\n",
    "                print('- {1}*x^{0}'.format(i+1,abs(round(float(regresion_lineal.coef_[:,i+1])))),end=' ')\n",
    "        else: \n",
    "            if round(float(regresion_lineal.coef_[:,i+1])) > 0:\n",
    "                print('+ {1:1.4f}*x^{0}'.format(i+1,float(regresion_lineal.coef_[:,i+1])),end=' ')\n",
    "            elif round(float(regresion_lineal.coef_[:,i+1])) < 0:\n",
    "                print('- {1:1.4f}*x^{0}'.format(i+1,abs(float(regresion_lineal.coef_[:,i+1]))),end=' ')\n",
    "\n",
    "\n",
    "if regresion_lineal.intercept_ >=0:\n",
    "    print('+',end=' ')\n",
    "if round(float(regresion_lineal.intercept_),4) % 1 == 0:   \n",
    "    print('{0}'.format(round(float(regresion_lineal.intercept_))))\n",
    "else:\n",
    "    print('{0:.2f}'.format(float(regresion_lineal.intercept_))) "
   ]
  }
 ],
 "metadata": {
  "kernelspec": {
   "display_name": "Python 3",
   "language": "python",
   "name": "python3"
  },
  "language_info": {
   "codemirror_mode": {
    "name": "ipython",
    "version": 3
   },
   "file_extension": ".py",
   "mimetype": "text/x-python",
   "name": "python",
   "nbconvert_exporter": "python",
   "pygments_lexer": "ipython3",
   "version": "3.7.6"
  }
 },
 "nbformat": 4,
 "nbformat_minor": 4
}
