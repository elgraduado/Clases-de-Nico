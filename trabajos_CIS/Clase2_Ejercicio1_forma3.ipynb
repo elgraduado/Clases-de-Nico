{
 "cells": [
  {
   "cell_type": "code",
   "execution_count": 1,
   "metadata": {},
   "outputs": [],
   "source": [
    "clase_cis=['daniel betancur,carlos Cuentas,leo' \n",
    "    ' hernandez,fredy andres,juan david,juan felipe,'\n",
    "    'alejandra gomez,juan pablo,Paula baron,juan Gordillo']"
   ]
  },
  {
   "cell_type": "code",
   "execution_count": 14,
   "metadata": {},
   "outputs": [],
   "source": [
    "def invertir_nombres_apellidos(lista_a_invertir):\n",
    "    invertido=[]\n",
    "    for elemento in lista_a_invertir:\n",
    "        separar=elemento.split(' ')\n",
    "        elem1=separar[0]\n",
    "        elem2=separar[1]\n",
    "        invertido.append('{} {}'.format(elem2,elem1))\n",
    "    return(invertido)   \n",
    "def listar_integrantes(integrantes):\n",
    "    for integrante in integrantes:\n",
    "        print(integrante)\n",
    "def separacion():\n",
    "    print('-----------------------------------------------------------------------------------------')"
   ]
  },
  {
   "cell_type": "code",
   "execution_count": 15,
   "metadata": {},
   "outputs": [
    {
     "name": "stdout",
     "output_type": "stream",
     "text": [
      "['Betancur Daniel', 'Cuentas Carlos', 'Hernandez Leo', 'Andres Fredy', 'David Juan', 'Felipe Juan', 'Gomez Alejandra', 'Pablo Juan', 'Baron Paula', 'Gordillo Juan']\n",
      "-----------------------------------------------------------------------------------------\n",
      "['Andres Fredy', 'Baron Paula', 'Betancur Daniel', 'Cuentas Carlos', 'David Juan', 'Felipe Juan', 'Gomez Alejandra', 'Gordillo Juan', 'Hernandez Leo', 'Pablo Juan']\n",
      "-----------------------------------------------------------------------------------------\n",
      "['Fredy Andres', 'Paula Baron', 'Daniel Betancur', 'Carlos Cuentas', 'Juan David', 'Juan Felipe', 'Alejandra Gomez', 'Juan Gordillo', 'Leo Hernandez', 'Juan Pablo']\n",
      "-----------------------------------------------------------------------------------------\n",
      "Fredy Andres\n",
      "Paula Baron\n",
      "Daniel Betancur\n",
      "Carlos Cuentas\n",
      "Juan David\n",
      "Juan Felipe\n",
      "Alejandra Gomez\n",
      "Juan Gordillo\n",
      "Leo Hernandez\n",
      "Juan Pablo\n"
     ]
    }
   ],
   "source": [
    "clase_separada=clase_cis[0].title().split(',')\n",
    "apellidos_primero=invertir_nombres_apellidos(clase_separada)\n",
    "print(apellidos_primero)\n",
    "separacion()\n",
    "apellidos_primero.sort()\n",
    "print(apellidos_primero)\n",
    "separacion()\n",
    "nombres_primero=invertir_nombres_apellidos(apellidos_primero)\n",
    "print(nombres_primero)\n",
    "separacion()\n",
    "listar_integrantes(nombres_primero)\n"
   ]
  }
 ],
 "metadata": {
  "kernelspec": {
   "display_name": "Python 3",
   "language": "python",
   "name": "python3"
  },
  "language_info": {
   "codemirror_mode": {
    "name": "ipython",
    "version": 3
   },
   "file_extension": ".py",
   "mimetype": "text/x-python",
   "name": "python",
   "nbconvert_exporter": "python",
   "pygments_lexer": "ipython3",
   "version": "3.7.6"
  }
 },
 "nbformat": 4,
 "nbformat_minor": 4
}
